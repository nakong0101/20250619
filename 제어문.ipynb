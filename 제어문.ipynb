{
 "cells": [
  {
   "cell_type": "code",
   "execution_count": 1,
   "id": "73a96254",
   "metadata": {},
   "outputs": [
    {
     "name": "stdout",
     "output_type": "stream",
     "text": [
      "다르다\n"
     ]
    }
   ],
   "source": [
    "a = 10\n",
    "if a == 3:\n",
    "    print('맞다')\n",
    "else:\n",
    "    print('다르다')"
   ]
  },
  {
   "cell_type": "code",
   "execution_count": 1,
   "id": "6205135b",
   "metadata": {},
   "outputs": [
    {
     "name": "stdout",
     "output_type": "stream",
     "text": [
      "다르다\n"
     ]
    }
   ],
   "source": [
    "a = 10 == 3\n",
    "if a:\n",
    "    print('맞다')\n",
    "else:\n",
    "    print('다르다')"
   ]
  },
  {
   "cell_type": "code",
   "execution_count": 2,
   "id": "64ad08d6",
   "metadata": {},
   "outputs": [
    {
     "name": "stdout",
     "output_type": "stream",
     "text": [
      "false\n"
     ]
    }
   ],
   "source": [
    "a = 2 + 3 == 7\n",
    "if a:\n",
    "    print('ture')\n",
    "else:\n",
    "    print('false')"
   ]
  },
  {
   "cell_type": "code",
   "execution_count": 3,
   "id": "0a6a0e2b",
   "metadata": {},
   "outputs": [
    {
     "name": "stdout",
     "output_type": "stream",
     "text": [
      "거짓\n"
     ]
    }
   ],
   "source": [
    "a = 10 == 3\n",
    "b = '참' if a else '거짓'\n",
    "print(b)"
   ]
  },
  {
   "cell_type": "code",
   "execution_count": 6,
   "id": "a61c58a5",
   "metadata": {},
   "outputs": [
    {
     "name": "stdout",
     "output_type": "stream",
     "text": [
      "결과2\n",
      "다르다\n"
     ]
    }
   ],
   "source": [
    "a = 10 == 3\n",
    "if a:\n",
    "    print('결과1')\n",
    "    print('ture')\n",
    "else:\n",
    "    print('결과2')\n",
    "    print('다르다')  "
   ]
  },
  {
   "cell_type": "code",
   "execution_count": 8,
   "id": "dab30a85",
   "metadata": {},
   "outputs": [
    {
     "name": "stdout",
     "output_type": "stream",
     "text": [
      "2500\n",
      "난 천재\n"
     ]
    }
   ],
   "source": [
    "지갑 = 10000\n",
    "음식 = 2500\n",
    "구매수량 = 3\n",
    "print(지갑 - (음식 * 구매수량))\n",
    "\n",
    "지불할금액 = 7500\n",
    "if 지불할금액 == (음식 * 구매수량):\n",
    "    print(\"난 천재\")\n",
    "else:\n",
    "    print(\"난 바보\")"
   ]
  },
  {
   "cell_type": "code",
   "execution_count": 9,
   "id": "c127b1bb",
   "metadata": {},
   "outputs": [
    {
     "name": "stdout",
     "output_type": "stream",
     "text": [
      "4.0\n"
     ]
    }
   ],
   "source": [
    "a = 3\n",
    "b = 12 / a\n",
    "print(b)"
   ]
  },
  {
   "cell_type": "code",
   "execution_count": 27,
   "id": "ae85238b",
   "metadata": {},
   "outputs": [
    {
     "name": "stdout",
     "output_type": "stream",
     "text": [
      "ture\n"
     ]
    }
   ],
   "source": [
    "a = 3\n",
    "b = 4*a\n",
    "c = a + b\n",
    "\n",
    "c = input('정답을 입력하세요')\n",
    "\n",
    "if c:\n",
    "    print('ture')\n",
    "else:\n",
    "    print('false')"
   ]
  },
  {
   "cell_type": "code",
   "execution_count": 21,
   "id": "0401b900",
   "metadata": {},
   "outputs": [
    {
     "name": "stdout",
     "output_type": "stream",
     "text": [
      "2500\n",
      "난 바보\n"
     ]
    }
   ],
   "source": [
    "지갑 = 10000\n",
    "음식 = 2500\n",
    "구매수량 = 3\n",
    "print(지갑 - (음식 * 구매수량))\n",
    "\n",
    "지불할금액 = input('지불할 금액을 입력하세요')\n",
    "\n",
    "if 지불할금액 == (음식 * 구매수량):\n",
    "    print(\"난 천재\")\n",
    "else:\n",
    "    print(\"난 바보\")"
   ]
  },
  {
   "cell_type": "code",
   "execution_count": 24,
   "id": "fedcbee4",
   "metadata": {},
   "outputs": [
    {
     "name": "stdout",
     "output_type": "stream",
     "text": [
      "15\n"
     ]
    }
   ],
   "source": [
    "a = 3\n",
    "b = 4*a\n",
    "c = a + b\n",
    "print(c)"
   ]
  },
  {
   "cell_type": "code",
   "execution_count": 28,
   "id": "60944248",
   "metadata": {},
   "outputs": [
    {
     "name": "stdout",
     "output_type": "stream",
     "text": [
      "ture\n"
     ]
    }
   ],
   "source": [
    "a = 3\n",
    "b = 4*a\n",
    "c = a + b\n",
    "\n",
    "c = input('정답을 입력하세요')\n",
    "\n",
    "if c:\n",
    "    print('ture')\n",
    "else:\n",
    "    print('false')"
   ]
  },
  {
   "cell_type": "code",
   "execution_count": 47,
   "id": "83611fc0",
   "metadata": {},
   "outputs": [
    {
     "name": "stdout",
     "output_type": "stream",
     "text": [
      "땡\n"
     ]
    }
   ],
   "source": [
    "a = 3\n",
    "b = 4\n",
    "c = a + b\n",
    "\n",
    "정답 = input('사람이 입력한 정답')\n",
    "\n",
    "if int(정답) == c:\n",
    "    print('정답')\n",
    "else:\n",
    "    print('땡')"
   ]
  },
  {
   "cell_type": "code",
   "execution_count": 49,
   "id": "6498808d",
   "metadata": {},
   "outputs": [
    {
     "name": "stdout",
     "output_type": "stream",
     "text": [
      "땡\n"
     ]
    }
   ],
   "source": [
    "a = 1 + 2\n",
    "\n",
    "정답 = input('정답을 입력하세요')\n",
    "\n",
    "if int(정답) == a:\n",
    "    print('딩동댕')\n",
    "else:\n",
    "    print('땡')"
   ]
  },
  {
   "cell_type": "code",
   "execution_count": 1,
   "id": "9b912a35",
   "metadata": {},
   "outputs": [
    {
     "name": "stdout",
     "output_type": "stream",
     "text": [
      "선택하신 음료는 사이다입니다. 450원\n",
      "사이다 20개의 금액은 9000입니다.\n",
      "100000원을 받고 91000원 거스름돈을 받으세요\n"
     ]
    }
   ],
   "source": [
    "선택한음료 = input(\"콜라, 사이다, 맥콜 중 하나를 주문하세요.\")\n",
    "금액 = 0\n",
    "if 선택한음료 == '콜라':\n",
    "    print('선택하신 음료는 콜라입니다. 500원')\n",
    "    금액 = 500\n",
    "elif 선택한음료 == '사이다':\n",
    "    print('선택하신 음료는 사이다입니다. 450원')\n",
    "    금액 = 450\n",
    "elif 선택한음료 == '맥콜':\n",
    "    print('선택하신 음료는 맥콜입니다. 300원')\n",
    "    금액 = 300\n",
    "\n",
    "\n",
    "\n",
    "\n",
    "#'문제1) 아래의 조건문에서 해당 음료수를 선택 했을 경우 금액을 알려주고 수량을 받는 입력창을 띄우세요.'\n",
    "수량 = int(input(\"수량을 입력하세요.\"))\n",
    "\n",
    "#'문제2) 선택한 음료와 수량의 총 합을 출력해 주세요. 예) 콜라 3개 금액은 1500원 입니다.'\n",
    "print(f'{선택한음료} {수량}개의 금액은 {금액 * 수량}입니다.')\n",
    "\n",
    "#'문제3) 사용자에서 금액을 받고 알맞은 결과를 출력해 주세요. 예) 2000원를 받고 500원 거스름돈를 받으세요.'\n",
    "지불한금액 = int(input(\"지불할 금액을 알려주세요.\"))\n",
    "print(f'{지불한금액}원을 받고 {지불한금액-(금액*수량)}원 거스름돈을 받으세요')"
   ]
  },
  {
   "cell_type": "code",
   "execution_count": 9,
   "id": "86eaf3cf",
   "metadata": {},
   "outputs": [
    {
     "name": "stdout",
     "output_type": "stream",
     "text": [
      "선택한 음료는 사이다입니다.\n",
      "선택한 음료는 사이다입니다. 수량은 4개입니다. 금액은 1600입니다.\n",
      "거스름돈은 3400입니다.\n"
     ]
    }
   ],
   "source": [
    "선택한음료 = input(\"콜라, 사이다, 맥콜 중 하나를 주문하세요.\")\n",
    "\n",
    "if 선택한음료 == '콜라':\n",
    "    print('선택한 음료는 콜라입니다.')\n",
    "    금액 = 300\n",
    "elif 선택한음료 == '사이다':\n",
    "    print('선택한 음료는 사이다입니다.')\n",
    "    금액 = 400\n",
    "elif 선택한음료 == '맥콜':\n",
    "    print('선택한 음료는 맥콜입니다.')\n",
    "    금액 = 450\n",
    "\n",
    "\n",
    "\n",
    "#'문제1) 아래의 조건문에서 해당 음료수를 선택 했을 경우 금액을 알려주고 수량을 받는 입력창을 띄우세요.'\n",
    "수량 = int(input(\"수량을 입력하세요.\"))\n",
    "\n",
    "#'문제2) 선택한 음료와 수량의 총 합을 출력해 주세요. 예) 콜라 3개 금액은 1500원 입니다.'\n",
    "print(f'선택한 음료는 {선택한음료}입니다. 수량은 {수량}개입니다. 금액은 {수량*금액}입니다.')\n",
    "\n",
    "#'문제3) 사용자에서 금액을 받고 알맞은 결과를 출력해 주세요. 예) 2000원를 받고 500원 거스름돈를 받으세요.'\n",
    "지불한금액 = int(input(\"지불할 금액을 입력하세요.\"))\n",
    "print(f'거스름돈은 {지불한금액-(수량*금액)}입니다.')"
   ]
  }
 ],
 "metadata": {
  "kernelspec": {
   "display_name": "Python 3",
   "language": "python",
   "name": "python3"
  },
  "language_info": {
   "codemirror_mode": {
    "name": "ipython",
    "version": 3
   },
   "file_extension": ".py",
   "mimetype": "text/x-python",
   "name": "python",
   "nbconvert_exporter": "python",
   "pygments_lexer": "ipython3",
   "version": "3.13.5"
  }
 },
 "nbformat": 4,
 "nbformat_minor": 5
}
